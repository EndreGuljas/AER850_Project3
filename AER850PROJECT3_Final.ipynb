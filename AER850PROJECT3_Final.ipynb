{
  "nbformat": 4,
  "nbformat_minor": 0,
  "metadata": {
    "colab": {
      "provenance": [],
      "mount_file_id": "1MQn2AhegmUXuVdBVt5AxGQCP-B7b9nPe",
      "authorship_tag": "ABX9TyMDk6StHF6kqs1nbQ+jLf8Q",
      "include_colab_link": true
    },
    "kernelspec": {
      "name": "python3",
      "display_name": "Python 3"
    },
    "language_info": {
      "name": "python"
    }
  },
  "cells": [
    {
      "cell_type": "markdown",
      "metadata": {
        "id": "view-in-github",
        "colab_type": "text"
      },
      "source": [
        "<a href=\"https://colab.research.google.com/github/EndreGuljas/AER850_Project3/blob/main/AER850PROJECT3_Final.ipynb\" target=\"_parent\"><img src=\"https://colab.research.google.com/assets/colab-badge.svg\" alt=\"Open In Colab\"/></a>"
      ]
    },
    {
      "cell_type": "code",
      "execution_count": null,
      "metadata": {
        "id": "UK6gPai7vEMx"
      },
      "outputs": [],
      "source": [
        "'''Step 1: Object Masking'''\n",
        "import cv2\n",
        "import numpy as np\n",
        "from matplotlib import pyplot as plt\n",
        "\n",
        "path = \"/content/drive/MyDrive/AER850_Project3/motherboard_image.JPEG\"\n",
        "img_real = cv2.imread(path, cv2.IMREAD_COLOR)\n",
        "img_real = cv2.rotate(img_real, cv2.ROTATE_90_CLOCKWISE)\n",
        "\n",
        "img = cv2.imread(path, cv2.IMREAD_COLOR)\n",
        "img = cv2.GaussianBlur(img, (47, 47), 4)\n",
        "img_gray = cv2.cvtColor(img, cv2.COLOR_BGR2GRAY)\n",
        "img_gray = cv2.adaptiveThreshold(img_gray, 255, cv2.ADAPTIVE_THRESH_MEAN_C, cv2.THRESH_BINARY, 55, 7)\n",
        "img_gray = cv2.rotate(img_gray, cv2.ROTATE_90_CLOCKWISE)\n",
        "\n",
        "edges = cv2.Canny(img_gray, 50, 300)\n",
        "edges = cv2.dilate(edges, None, iterations=10)\n",
        "\n",
        "contours, _ = cv2.findContours(edges, cv2.RETR_EXTERNAL, cv2.CHAIN_APPROX_SIMPLE)\n",
        "\n",
        "mask = np.zeros_like(img_real)\n",
        "cv2.drawContours(image=mask, contours=[max(contours, key=cv2.contourArea)], contourIdx=-1, color=(255, 255, 255), thickness=cv2.FILLED)\n",
        "\n",
        "masked_img = cv2.bitwise_and(mask, img_real)\n",
        "\n",
        "masked_img_rgb = cv2.cvtColor(masked_img, cv2.COLOR_BGR2RGB)\n",
        "\n",
        "plt.imshow(masked_img_rgb)\n",
        "plt.axis('off')\n",
        "plt.show()\n"
      ]
    },
    {
      "cell_type": "code",
      "source": [
        "!pip install ultralytics"
      ],
      "metadata": {
        "id": "VPYiKCcRv3MF"
      },
      "execution_count": null,
      "outputs": []
    },
    {
      "cell_type": "code",
      "source": [
        "'''Step 2: YOLOv8 Training'''\n",
        "from ultralytics import YOLO\n",
        "\n",
        "model = YOLO('yolov8n.pt')\n",
        "results = model.train(data='/content/drive/MyDrive/AER850_Project3/data/data.yaml', epochs=150, batch=2, imgsz=1024, name='pcb_identifier')"
      ],
      "metadata": {
        "id": "L4Zq-UK1v7L5"
      },
      "execution_count": null,
      "outputs": []
    },
    {
      "cell_type": "code",
      "source": [
        "'''Step 3: YOLOv8 Evaluation'''\n",
        "from google.colab.patches import cv2_imshow\n",
        "\n",
        "# Load your trained model\n",
        "model_path = 'XXX'\n",
        "model = YOLO(model_path)\n",
        "\n",
        "# Define the path to evaluation images\n",
        "image_paths = [\n",
        "    '/content/drive/MyDrive/AER850_Project3/data/evaluation/ardmega.jpg',\n",
        "    '/content/drive/MyDrive/AER850_Project3/data/evaluation/arduno.jpg',\n",
        "    '/content/drive/MyDrive/AER850_Project3/data/evaluation/rasppi.jpg'\n",
        "]\n",
        "\n",
        "# Iterate over each image path, predict, and display results\n",
        "for image_path in image_paths:\n",
        "    # Make predictions with the model\n",
        "    results = model.predict(image_path, imgsz=1024, conf=0.35)\n",
        "\n",
        "    # Get the plotted image with detections\n",
        "    result_image = results[0].plot()\n",
        "\n",
        "    # Display the image\n",
        "    print(f\"\\nResults for: {image_path.split('/')[-1]}\")\n",
        "    cv2_imshow(result_image)\n",
        "\n",
        "    # Print detection statistics\n",
        "    boxes = results[0].boxes\n",
        "    print(f\"Total components detected: {len(boxes)}\")\n",
        "\n",
        "    # Print detection details\n",
        "    for box in boxes:\n",
        "        class_id = int(box.cls[0])\n",
        "        class_name = model.names[class_id]\n",
        "        confidence = float(box.conf[0])\n",
        "        print(f\"Class: {class_name}, Confidence: {confidence:.2f}\")\n",
        "\n",
        "    print(\"-\" * 50)  # Separator between images"
      ],
      "metadata": {
        "id": "IYzOTwsrv_b-"
      },
      "execution_count": null,
      "outputs": []
    }
  ]
}