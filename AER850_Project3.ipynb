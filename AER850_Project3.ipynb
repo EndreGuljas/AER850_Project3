{
  "nbformat": 4,
  "nbformat_minor": 0,
  "metadata": {
    "colab": {
      "provenance": [],
      "gpuType": "T4",
      "mount_file_id": "1ZvBF_2D899rczegPWxIkZsvS0KXrzCbp",
      "authorship_tag": "ABX9TyMDaadWUSLpVoIN6oshe411",
      "include_colab_link": true
    },
    "kernelspec": {
      "name": "python3",
      "display_name": "Python 3"
    },
    "language_info": {
      "name": "python"
    },
    "accelerator": "GPU"
  },
  "cells": [
    {
      "cell_type": "markdown",
      "metadata": {
        "id": "view-in-github",
        "colab_type": "text"
      },
      "source": [
        "<a href=\"https://colab.research.google.com/github/EndreGuljas/AER850_Project3/blob/main/AER850_Project3.ipynb\" target=\"_parent\"><img src=\"https://colab.research.google.com/assets/colab-badge.svg\" alt=\"Open In Colab\"/></a>"
      ]
    },
    {
      "cell_type": "code",
      "execution_count": null,
      "metadata": {
        "id": "qiwe6unk2hhf"
      },
      "outputs": [],
      "source": [
        "'''Step 1: Object Masking'''\n",
        "import cv2\n",
        "import numpy as np\n",
        "from matplotlib import pyplot as plt\n",
        "\n",
        "path = \"/content/drive/MyDrive/AER850_Project3/motherboard_image.JPEG\"\n",
        "img_real = cv2.imread(path, cv2.IMREAD_COLOR)\n",
        "img_real = cv2.rotate(img_real, cv2.ROTATE_90_CLOCKWISE)\n",
        "\n",
        "img = cv2.imread(path, cv2.IMREAD_COLOR)\n",
        "img = cv2.GaussianBlur(img, (47, 47), 4)\n",
        "img_gray = cv2.cvtColor(img, cv2.COLOR_BGR2GRAY)\n",
        "img_gray = cv2.adaptiveThreshold(img_gray, 255, cv2.ADAPTIVE_THRESH_MEAN_C, cv2.THRESH_BINARY, 55, 7)\n",
        "img_gray = cv2.rotate(img_gray, cv2.ROTATE_90_CLOCKWISE)\n",
        "\n",
        "edges = cv2.Canny(img_gray, 50, 300)\n",
        "edges = cv2.dilate(edges, None, iterations=10)\n",
        "\n",
        "contours, _ = cv2.findContours(edges, cv2.RETR_EXTERNAL, cv2.CHAIN_APPROX_SIMPLE)\n",
        "mask = np.zeros_like(img_real)\n",
        "cv2.drawContours(image=mask, contours=[max(contours, key=cv2.contourArea)], contourIdx=-1, color=(255, 255, 255), thickness=cv2.FILLED)\n",
        "\n",
        "masked_img = cv2.bitwise_and(mask, img_real)\n",
        "\n",
        "edges_rgb = cv2.cvtColor(edges, cv2.COLOR_GRAY2RGB)\n",
        "mask_rgb = cv2.cvtColor(mask, cv2.COLOR_BGR2RGB)\n",
        "masked_img_rgb = cv2.cvtColor(masked_img, cv2.COLOR_BGR2RGB)\n",
        "original_rgb = cv2.cvtColor(img_real, cv2.COLOR_BGR2RGB)\n",
        "\n",
        "# Plots\n",
        "plt.figure(figsize=(20, 5))\n",
        "plt.subplot(142)\n",
        "plt.imshow(edges_rgb)\n",
        "plt.title('Edge Detection')\n",
        "plt.axis('off')\n",
        "\n",
        "plt.subplot(143)\n",
        "plt.imshow(mask_rgb)\n",
        "plt.title('Mask')\n",
        "plt.axis('off')\n",
        "\n",
        "plt.subplot(144)\n",
        "plt.imshow(masked_img_rgb)\n",
        "plt.title('Final Extracted PCB')\n",
        "plt.axis('off')\n",
        "\n",
        "plt.tight_layout()\n",
        "plt.show()"
      ]
    },
    {
      "cell_type": "code",
      "source": [
        "!pip install ultralytics"
      ],
      "metadata": {
        "id": "8GxSh5gj2ywG"
      },
      "execution_count": null,
      "outputs": []
    },
    {
      "cell_type": "code",
      "source": [
        "'''Step 2: YOLOv8 Training'''\n",
        "from ultralytics import YOLO\n",
        "\n",
        "model = YOLO('yolov8n.pt')\n",
        "results = model.train(data='/content/drive/MyDrive/AER850_Project3/data/data.yaml', epochs=150, batch=2, imgsz=1024, name='pcb_identifier')"
      ],
      "metadata": {
        "id": "msGv9spQ22At"
      },
      "execution_count": null,
      "outputs": []
    },
    {
      "cell_type": "code",
      "source": [
        "'''Step 2.5: Matrices and Graph Curves'''\n",
        "import matplotlib.image as mpimg\n",
        "\n",
        "# Normalized confusion matrix\n",
        "conf_matrix = mpimg.imread('/content/runs/detect/pcb_identifier/confusion_matrix_normalized.png')\n",
        "plt.figure(figsize=(12, 8))\n",
        "plt.imshow(conf_matrix)\n",
        "plt.axis('off')\n",
        "plt.show()\n",
        "\n",
        "# Precision-Confidence curve\n",
        "pc_curve = mpimg.imread('/content/runs/detect/pcb_identifier/P_curve.png')\n",
        "plt.figure(figsize=(12, 8))\n",
        "plt.imshow(pc_curve)\n",
        "plt.axis('off')\n",
        "plt.show()\n",
        "\n",
        "# Precision-Recall curve\n",
        "pr_curve = mpimg.imread('/content/runs/detect/pcb_identifier/PR_curve.png')\n",
        "plt.figure(figsize=(12, 8))\n",
        "plt.imshow(pr_curve)\n",
        "plt.axis('off')\n",
        "plt.show()"
      ],
      "metadata": {
        "id": "tJAUu9Bg28RH"
      },
      "execution_count": null,
      "outputs": []
    },
    {
      "cell_type": "code",
      "source": [
        "'''Step 3: YOLOv8 Evaluation'''\n",
        "from google.colab.patches import cv2_imshow\n",
        "\n",
        "model = YOLO('/content/runs/detect/pcb_identifier/weights/last.pt')\n",
        "\n",
        "images = [\n",
        "    '/content/drive/MyDrive/AER850_Project3/data/evaluation/ardmega.jpg',\n",
        "    '/content/drive/MyDrive/AER850_Project3/data/evaluation/arduno.jpg',\n",
        "    '/content/drive/MyDrive/AER850_Project3/data/evaluation/rasppi.jpg'\n",
        "]\n",
        "\n",
        "for img in images:\n",
        "    print(f\"\\nResults for: {img.split('/')[-1]}\")\n",
        "    results = model.predict(img, imgsz=1024, conf=0.25)\n",
        "    cv2_imshow(results[0].plot())"
      ],
      "metadata": {
        "id": "7wWOZK0E2-C1"
      },
      "execution_count": null,
      "outputs": []
    }
  ]
}